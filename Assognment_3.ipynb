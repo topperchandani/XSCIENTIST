{
  "nbformat": 4,
  "nbformat_minor": 0,
  "metadata": {
    "colab": {
      "provenance": []
    },
    "kernelspec": {
      "name": "python3",
      "display_name": "Python 3"
    },
    "language_info": {
      "name": "python"
    }
  },
  "cells": [
    {
      "cell_type": "markdown",
      "source": [
        "DOCUMENTATION:\n",
        "\n",
        "Generation of Primary Key:\n",
        "A primary key is a unique identifier for a record in a database table. It ensures that each record in the table is distinct and can be used to retrieve or reference that specific record. Primary keys are essential for maintaining data integrity and for establishing relationships between tables in a relational database.\n",
        "\n",
        "Generation of Foreign key:\n",
        "A foreign key is a database constraint that establishes a link between two tables in a relational database. It enforces referential integrity by ensuring that the values in a particular column (or set of columns) in one table correspond to the values in another table's primary key. In other words, it creates a relationship between tables by defining a dependency between them.\n",
        "\n",
        "Primary Key and Foreign Key Relationship: A foreign key column in one table refers to the primary key column in another table. This relationship is used to create associations between rows in the two tables\n",
        "\n",
        "Referential Integrity: The primary purpose of foreign keys is to maintain referential integrity in a database. Referential integrity ensures that the relationships between tables are valid and consistent. It prevents actions that would result in orphaned or inconsistent data.\n",
        "\n",
        " indiastatewisedata and indiadataanalysis tables are used to show the connectivity of reference key and foreign key.\n",
        "\n",
        "\n"
      ],
      "metadata": {
        "id": "qF_UKE0UamjD"
      }
    },
    {
      "cell_type": "code",
      "source": [],
      "metadata": {
        "id": "S7WFQ8HBc0Dx"
      },
      "execution_count": null,
      "outputs": []
    }
  ]
}